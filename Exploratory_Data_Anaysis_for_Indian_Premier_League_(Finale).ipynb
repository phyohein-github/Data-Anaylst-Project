{
  "nbformat": 4,
  "nbformat_minor": 0,
  "metadata": {
    "colab": {
      "name": "Exploratory_Data_Anaysis_for_Indian_Premier_League (Finale)",
      "provenance": [],
      "collapsed_sections": []
    },
    "kernelspec": {
      "name": "python3",
      "display_name": "Python 3"
    },
    "language_info": {
      "name": "python"
    }
  },
  "cells": [
    {
      "cell_type": "markdown",
      "metadata": {
        "id": "NM71KvnB24J4"
      },
      "source": [
        "# **Title - Exploratory Data Analysis on Indian Premier League**\n",
        "\n",
        "\n",
        "> Author : Sai Phyo Hein\n",
        "\n",
        "> Work : Intership Program in The Spark Foundation\n",
        "\n",
        "> Batch : August21#\n",
        "\n",
        "\n",
        "\n",
        "---\n",
        "\n"
      ]
    },
    {
      "cell_type": "markdown",
      "metadata": {
        "id": "O0uJe6133oA7"
      },
      "source": [
        "# 1. Outline\n"
      ]
    },
    {
      "cell_type": "markdown",
      "metadata": {
        "id": "fpMExtHm5qh0"
      },
      "source": [
        "\n",
        "1.   Outline\n",
        "2.   Importing Required Modules\n",
        "3.   Reading Data from Source Zip\n",
        "4.   Exploring Data\n",
        "5.   Team - Teams with Maximum Winner Count\n",
        "6.   Player - Maximum \"Player_of_Match\" award Holder (Seasonal & Overall) \n",
        "7.   Player - Batting Performance Analysis (Strike Rate)\n",
        "8.   Player - Bowling Performance Analysis (Dot Ball %)\n",
        "\n",
        "\n",
        "\n",
        "\n",
        "---\n",
        "\n"
      ]
    },
    {
      "cell_type": "markdown",
      "metadata": {
        "id": "XsyLPVpf7_RD"
      },
      "source": [
        "# 2. Importing Required Modules"
      ]
    },
    {
      "cell_type": "code",
      "metadata": {
        "id": "Oi2T6-oK7-lT"
      },
      "source": [
        "import pandas as pd\n",
        "import numpy as np\n",
        "import matplotlib.pyplot as plt\n",
        "import matplotlib.gridspec as gridspec\n",
        "import seaborn as sns"
      ],
      "execution_count": 55,
      "outputs": []
    },
    {
      "cell_type": "code",
      "metadata": {
        "id": "ww2apd1vWFgj"
      },
      "source": [
        "import warnings\n",
        "warnings.filterwarnings(\"ignore\", category=Warning)"
      ],
      "execution_count": 2,
      "outputs": []
    },
    {
      "cell_type": "markdown",
      "metadata": {
        "id": "SxyRicbJ74HX"
      },
      "source": [
        "# 3. Reading Data from Source Zip"
      ]
    },
    {
      "cell_type": "markdown",
      "metadata": {
        "id": "PCPHLSQSht6r"
      },
      "source": [
        "> **3.1** I have downloaded the data zip file and uploaded in my google drive. \n",
        "This step is to unzip the zip file from drive and add a copy in this notebook's workspace.\n",
        "\n"
      ]
    },
    {
      "cell_type": "code",
      "metadata": {
        "id": "mBGPCkc7XWRV"
      },
      "source": [
        "!unzip /content/drive/MyDrive/Data_for_Data_Science_Projects/Indian_Premier_League.zip "
      ],
      "execution_count": null,
      "outputs": []
    },
    {
      "cell_type": "markdown",
      "metadata": {
        "id": "JU4GMAuNh3K-"
      },
      "source": [
        "\n",
        "\n",
        "> **3.2**  This step is to read those unzipped csv files and store in pandas dataframe variable.\n",
        "\n"
      ]
    },
    {
      "cell_type": "code",
      "metadata": {
        "id": "dJvFeRm070EG"
      },
      "source": [
        "#Deliveries Data from deliveries.csv\n",
        "deliveries = pd.read_csv(\"/content/deliveries.csv\")\n",
        "\n",
        "#Match data from matches.csv\n",
        "#with parsing datetime to respective columns for ease of representing sequential in filtering and visualizing\n",
        "matches = pd.read_csv(\"/content/matches.csv\", parse_dates= [\"season\", \"date\"])"
      ],
      "execution_count": 4,
      "outputs": []
    },
    {
      "cell_type": "markdown",
      "metadata": {
        "id": "b_raGRVM8TRY"
      },
      "source": [
        "# 4. Exploring Data"
      ]
    },
    {
      "cell_type": "markdown",
      "metadata": {
        "id": "r7gxH6Y6iCix"
      },
      "source": [
        "\n",
        "\n",
        "> **4.1** This step is checking for missing values in data, those can become noise or mis-interpreting in analysis. \n",
        "\n"
      ]
    },
    {
      "cell_type": "code",
      "metadata": {
        "colab": {
          "base_uri": "https://localhost:8080/"
        },
        "id": "JXXx-0jo8ZX3",
        "outputId": "9f101e22-250f-41cb-e00c-0920283bc370"
      },
      "source": [
        "deliveries.info()"
      ],
      "execution_count": 5,
      "outputs": [
        {
          "output_type": "stream",
          "text": [
            "<class 'pandas.core.frame.DataFrame'>\n",
            "RangeIndex: 179078 entries, 0 to 179077\n",
            "Data columns (total 21 columns):\n",
            " #   Column            Non-Null Count   Dtype \n",
            "---  ------            --------------   ----- \n",
            " 0   match_id          179078 non-null  int64 \n",
            " 1   inning            179078 non-null  int64 \n",
            " 2   batting_team      179078 non-null  object\n",
            " 3   bowling_team      179078 non-null  object\n",
            " 4   over              179078 non-null  int64 \n",
            " 5   ball              179078 non-null  int64 \n",
            " 6   batsman           179078 non-null  object\n",
            " 7   non_striker       179078 non-null  object\n",
            " 8   bowler            179078 non-null  object\n",
            " 9   is_super_over     179078 non-null  int64 \n",
            " 10  wide_runs         179078 non-null  int64 \n",
            " 11  bye_runs          179078 non-null  int64 \n",
            " 12  legbye_runs       179078 non-null  int64 \n",
            " 13  noball_runs       179078 non-null  int64 \n",
            " 14  penalty_runs      179078 non-null  int64 \n",
            " 15  batsman_runs      179078 non-null  int64 \n",
            " 16  extra_runs        179078 non-null  int64 \n",
            " 17  total_runs        179078 non-null  int64 \n",
            " 18  player_dismissed  8834 non-null    object\n",
            " 19  dismissal_kind    8834 non-null    object\n",
            " 20  fielder           6448 non-null    object\n",
            "dtypes: int64(13), object(8)\n",
            "memory usage: 28.7+ MB\n"
          ],
          "name": "stdout"
        }
      ]
    },
    {
      "cell_type": "markdown",
      "metadata": {
        "id": "JxsWd5rM8wAo"
      },
      "source": [
        "**Explanation:**\n",
        "\n",
        "> Column indexes [0, 17] have no missing values and some info about dismissal and fielder are not recorded as those are not common in a normal match. \n",
        "\n",
        "\n",
        "\n",
        "> So, no special processing for common informations is required, as there is no missing. \n",
        "\n",
        "\n",
        "\n",
        "\n"
      ]
    },
    {
      "cell_type": "code",
      "metadata": {
        "colab": {
          "base_uri": "https://localhost:8080/"
        },
        "id": "2Qtp5IeI99tf",
        "outputId": "156c38b4-837d-402e-a3d2-ec63732c8a1e"
      },
      "source": [
        "matches.info()"
      ],
      "execution_count": 6,
      "outputs": [
        {
          "output_type": "stream",
          "text": [
            "<class 'pandas.core.frame.DataFrame'>\n",
            "RangeIndex: 756 entries, 0 to 755\n",
            "Data columns (total 18 columns):\n",
            " #   Column           Non-Null Count  Dtype         \n",
            "---  ------           --------------  -----         \n",
            " 0   id               756 non-null    int64         \n",
            " 1   season           756 non-null    datetime64[ns]\n",
            " 2   city             749 non-null    object        \n",
            " 3   date             756 non-null    datetime64[ns]\n",
            " 4   team1            756 non-null    object        \n",
            " 5   team2            756 non-null    object        \n",
            " 6   toss_winner      756 non-null    object        \n",
            " 7   toss_decision    756 non-null    object        \n",
            " 8   result           756 non-null    object        \n",
            " 9   dl_applied       756 non-null    int64         \n",
            " 10  winner           752 non-null    object        \n",
            " 11  win_by_runs      756 non-null    int64         \n",
            " 12  win_by_wickets   756 non-null    int64         \n",
            " 13  player_of_match  752 non-null    object        \n",
            " 14  venue            756 non-null    object        \n",
            " 15  umpire1          754 non-null    object        \n",
            " 16  umpire2          754 non-null    object        \n",
            " 17  umpire3          119 non-null    object        \n",
            "dtypes: datetime64[ns](2), int64(4), object(12)\n",
            "memory usage: 106.4+ KB\n"
          ],
          "name": "stdout"
        }
      ]
    },
    {
      "cell_type": "markdown",
      "metadata": {
        "id": "DEQBDykX-WkA"
      },
      "source": [
        "**Explanation:**\n",
        "\n",
        "\n",
        "> city, winner, player_of_match, umpires columns have unrecorded data. Dropping or filling will depend on specific process - so preprocessing will be done before each specific process. \n",
        "\n"
      ]
    },
    {
      "cell_type": "markdown",
      "metadata": {
        "id": "Kq4x3wZbiWyo"
      },
      "source": [
        "**4.2** Task in the next section is which teams are winning the most in each season and which teams are winning most seasons. \n",
        "\n",
        "Thus, missing values in a common info (winner) columns must be checked and prepared for this reason. "
      ]
    },
    {
      "cell_type": "code",
      "metadata": {
        "id": "76HJvNYvWgDt",
        "colab": {
          "base_uri": "https://localhost:8080/",
          "height": 326
        },
        "outputId": "bf1b865f-5857-4d14-cdc1-8a9da76c627b"
      },
      "source": [
        "print(matches[matches[\"winner\"].isnull()].index)\n",
        "matches[matches[\"winner\"].isnull()]"
      ],
      "execution_count": 7,
      "outputs": [
        {
          "output_type": "stream",
          "text": [
            "Int64Index([300, 545, 570, 744], dtype='int64')\n"
          ],
          "name": "stdout"
        },
        {
          "output_type": "execute_result",
          "data": {
            "text/html": [
              "<div>\n",
              "<style scoped>\n",
              "    .dataframe tbody tr th:only-of-type {\n",
              "        vertical-align: middle;\n",
              "    }\n",
              "\n",
              "    .dataframe tbody tr th {\n",
              "        vertical-align: top;\n",
              "    }\n",
              "\n",
              "    .dataframe thead th {\n",
              "        text-align: right;\n",
              "    }\n",
              "</style>\n",
              "<table border=\"1\" class=\"dataframe\">\n",
              "  <thead>\n",
              "    <tr style=\"text-align: right;\">\n",
              "      <th></th>\n",
              "      <th>id</th>\n",
              "      <th>season</th>\n",
              "      <th>city</th>\n",
              "      <th>date</th>\n",
              "      <th>team1</th>\n",
              "      <th>team2</th>\n",
              "      <th>toss_winner</th>\n",
              "      <th>toss_decision</th>\n",
              "      <th>result</th>\n",
              "      <th>dl_applied</th>\n",
              "      <th>winner</th>\n",
              "      <th>win_by_runs</th>\n",
              "      <th>win_by_wickets</th>\n",
              "      <th>player_of_match</th>\n",
              "      <th>venue</th>\n",
              "      <th>umpire1</th>\n",
              "      <th>umpire2</th>\n",
              "      <th>umpire3</th>\n",
              "    </tr>\n",
              "  </thead>\n",
              "  <tbody>\n",
              "    <tr>\n",
              "      <th>300</th>\n",
              "      <td>301</td>\n",
              "      <td>2011-01-01</td>\n",
              "      <td>Delhi</td>\n",
              "      <td>2011-05-21</td>\n",
              "      <td>Delhi Daredevils</td>\n",
              "      <td>Pune Warriors</td>\n",
              "      <td>Delhi Daredevils</td>\n",
              "      <td>bat</td>\n",
              "      <td>no result</td>\n",
              "      <td>0</td>\n",
              "      <td>NaN</td>\n",
              "      <td>0</td>\n",
              "      <td>0</td>\n",
              "      <td>NaN</td>\n",
              "      <td>Feroz Shah Kotla</td>\n",
              "      <td>SS Hazare</td>\n",
              "      <td>RJ Tucker</td>\n",
              "      <td>NaN</td>\n",
              "    </tr>\n",
              "    <tr>\n",
              "      <th>545</th>\n",
              "      <td>546</td>\n",
              "      <td>2015-01-01</td>\n",
              "      <td>Bangalore</td>\n",
              "      <td>2015-04-29</td>\n",
              "      <td>Royal Challengers Bangalore</td>\n",
              "      <td>Rajasthan Royals</td>\n",
              "      <td>Rajasthan Royals</td>\n",
              "      <td>field</td>\n",
              "      <td>no result</td>\n",
              "      <td>0</td>\n",
              "      <td>NaN</td>\n",
              "      <td>0</td>\n",
              "      <td>0</td>\n",
              "      <td>NaN</td>\n",
              "      <td>M Chinnaswamy Stadium</td>\n",
              "      <td>JD Cloete</td>\n",
              "      <td>PG Pathak</td>\n",
              "      <td>NaN</td>\n",
              "    </tr>\n",
              "    <tr>\n",
              "      <th>570</th>\n",
              "      <td>571</td>\n",
              "      <td>2015-01-01</td>\n",
              "      <td>Bangalore</td>\n",
              "      <td>2015-05-17</td>\n",
              "      <td>Delhi Daredevils</td>\n",
              "      <td>Royal Challengers Bangalore</td>\n",
              "      <td>Royal Challengers Bangalore</td>\n",
              "      <td>field</td>\n",
              "      <td>no result</td>\n",
              "      <td>0</td>\n",
              "      <td>NaN</td>\n",
              "      <td>0</td>\n",
              "      <td>0</td>\n",
              "      <td>NaN</td>\n",
              "      <td>M Chinnaswamy Stadium</td>\n",
              "      <td>HDPK Dharmasena</td>\n",
              "      <td>K Srinivasan</td>\n",
              "      <td>NaN</td>\n",
              "    </tr>\n",
              "    <tr>\n",
              "      <th>744</th>\n",
              "      <td>11340</td>\n",
              "      <td>2019-01-01</td>\n",
              "      <td>Bengaluru</td>\n",
              "      <td>2019-04-30</td>\n",
              "      <td>Royal Challengers Bangalore</td>\n",
              "      <td>Rajasthan Royals</td>\n",
              "      <td>Rajasthan Royals</td>\n",
              "      <td>field</td>\n",
              "      <td>no result</td>\n",
              "      <td>0</td>\n",
              "      <td>NaN</td>\n",
              "      <td>0</td>\n",
              "      <td>0</td>\n",
              "      <td>NaN</td>\n",
              "      <td>M. Chinnaswamy Stadium</td>\n",
              "      <td>Nigel Llong</td>\n",
              "      <td>Ulhas Gandhe</td>\n",
              "      <td>Anil Chaudhary</td>\n",
              "    </tr>\n",
              "  </tbody>\n",
              "</table>\n",
              "</div>"
            ],
            "text/plain": [
              "        id     season       city  ...          umpire1       umpire2         umpire3\n",
              "300    301 2011-01-01      Delhi  ...        SS Hazare     RJ Tucker             NaN\n",
              "545    546 2015-01-01  Bangalore  ...        JD Cloete     PG Pathak             NaN\n",
              "570    571 2015-01-01  Bangalore  ...  HDPK Dharmasena  K Srinivasan             NaN\n",
              "744  11340 2019-01-01  Bengaluru  ...      Nigel Llong  Ulhas Gandhe  Anil Chaudhary\n",
              "\n",
              "[4 rows x 18 columns]"
            ]
          },
          "metadata": {
            "tags": []
          },
          "execution_count": 7
        }
      ]
    },
    {
      "cell_type": "markdown",
      "metadata": {
        "id": "FS2H9nTUiyGD"
      },
      "source": [
        "**Explanation:**\n",
        "> Seeing other items of missing data for winner, those may be unrecorded because the match is canceled on that day. \n",
        "\n",
        "> Season column in datetime format with (year-month-day) can also be a problem in filtering and visualization so this must be changed to datetime format (year). \n",
        "\n",
        "\n",
        "\n"
      ]
    },
    {
      "cell_type": "code",
      "metadata": {
        "id": "ko9p06Tu4wDg"
      },
      "source": [
        "#modifying the season column to just year. \n",
        "import datetime as dt\n",
        "matches[\"season\"] = matches[\"season\"].dt.year"
      ],
      "execution_count": 8,
      "outputs": []
    },
    {
      "cell_type": "markdown",
      "metadata": {
        "id": "UHu3kOSxDDWF"
      },
      "source": [
        "**4.3** This step is to check number of matches in each season making sure there is no match with very few matches or with unresonably large number of matches. "
      ]
    },
    {
      "cell_type": "markdown",
      "metadata": {
        "id": "i8vdR3rWDfWP"
      },
      "source": [
        "4.3.1 Make a copy of matches df as work_matches df so that no interference with main matches df. \n",
        "Counting matches with no result is not reasonable and must drop rows with no match."
      ]
    },
    {
      "cell_type": "code",
      "metadata": {
        "id": "3esQmFQvYCCa"
      },
      "source": [
        "work_matches = matches.copy()\n",
        "work_matches.drop(list(work_matches[work_matches[\"winner\"].isnull()].index), inplace = True)"
      ],
      "execution_count": 9,
      "outputs": []
    },
    {
      "cell_type": "markdown",
      "metadata": {
        "id": "XsgvS0-lEI0O"
      },
      "source": [
        "4.3.2 Counting number of matches in each season and visualizing with seaborn. "
      ]
    },
    {
      "cell_type": "code",
      "metadata": {
        "colab": {
          "base_uri": "https://localhost:8080/",
          "height": 311
        },
        "id": "TVCumrjCQl1h",
        "outputId": "b78ff126-dc1e-4e12-ce7b-cddb4a3caf17"
      },
      "source": [
        "matches_per_season = pd.DataFrame(work_matches.groupby(\"season\").count()[\"id\"])\n",
        "matches_per_season.rename(columns = {\"id\":\"matches_count\"}, inplace= True)\n",
        "sns.barplot(matches_per_season.index, matches_per_season[\"matches_count\"]).set_title(\"Number of Matches per Season\")"
      ],
      "execution_count": 10,
      "outputs": [
        {
          "output_type": "execute_result",
          "data": {
            "text/plain": [
              "Text(0.5, 1.0, 'Number of Matches per Season')"
            ]
          },
          "metadata": {
            "tags": []
          },
          "execution_count": 10
        },
        {
          "output_type": "display_data",
          "data": {
            "image/png": "[encoded data removed]",
            "text/plain": [
              "<Figure size 432x288 with 1 Axes>"
            ]
          },
          "metadata": {
            "tags": [],
            "needs_background": "light"
          }
        }
      ]
    },
    {
      "cell_type": "markdown",
      "metadata": {
        "id": "w5GGwMSkE88-"
      },
      "source": [
        "**Explanation:** \n",
        "\n",
        "No season with strange number of matches. \n",
        "\n",
        "Showing the winning count for overall will also be reasonable as the match counts are not much different. \n",
        "\n",
        "But I would like to anlyze sesonalize seasonally to see the detail of improvement by those max winning teams. \n"
      ]
    },
    {
      "cell_type": "markdown",
      "metadata": {
        "id": "S0rmCSqr5nuN"
      },
      "source": [
        "# 5. Teams with Maximum Winner Count\n",
        "To check which teams have won the most matches in each season. "
      ]
    },
    {
      "cell_type": "markdown",
      "metadata": {
        "id": "XvqHlD73H82S"
      },
      "source": [
        "**5.1** Work Flow\n",
        "\n",
        "*Use work_matches df*\n",
        "* get a dataframe with a column for unique seasons, another column for teams with maximum winning counts in specific season and the last their winning match counts. \n",
        "* plot the result and print out the stats of resulting dataframe. \n",
        "\n"
      ]
    },
    {
      "cell_type": "code",
      "metadata": {
        "colab": {
          "base_uri": "https://localhost:8080/",
          "height": 456
        },
        "id": "j2JeoDCiQ1h6",
        "outputId": "18107b41-28d6-4daf-ff74-f3ae336fddcb"
      },
      "source": [
        "# get dataframe with uniqe season column, team with max winning count and number of winning matches. \n",
        "\n",
        "max_winning = pd.DataFrame(columns = [\"season\", \"max_winning_team\", \"winning_match_counts\"])\n",
        "\n",
        "#******\n",
        "for season in sorted(work_matches[\"season\"].unique()):\n",
        "  point = {}\n",
        "  point[\"season\"] = [season]\n",
        "\n",
        "  temp_df = pd.DataFrame(work_matches[work_matches[\"season\"] == season].groupby(\"winner\").count()[\"id\"])\n",
        "\n",
        "  point[\"max_winning_team\"] = [temp_df[\"id\"].idxmax()]\n",
        "  point[\"winning_match_counts\"] = [temp_df[\"id\"].max()]\n",
        "\n",
        "  temp_df2 = pd.DataFrame.from_dict(point)\n",
        "\n",
        "  max_winning = pd.concat([max_winning, temp_df2], ignore_index= True)\n",
        "\n",
        "# plot the result\n",
        "fig, axe = plt.subplots(1, figsize = (10, 3))\n",
        "\n",
        "sns.barplot(ax = axe, x = \"max_winning_team\", y = \"winning_match_counts\", hue = \"season\", \n",
        "            data = max_winning, palette = \"Paired\").set_title(\"Teams Max Winning in Each Season\", loc = \"left\")\n",
        "plt.legend(bbox_to_anchor=(1, 1), loc='upper left', borderaxespad=0)\n",
        "\n",
        "plt.xticks(rotation = 45)\n",
        "\n",
        "# Print the stats\n",
        "print(\"Number of Seasons Winning by Teams\")\n",
        "print(\"...............................................................\")\n",
        "\n",
        "no_of_season_win = pd.DataFrame(max_winning.groupby(\n",
        "    \"max_winning_team\").count()).sort_values(\"season\", ascending = False).head(3).drop(\"winning_match_counts\", axis = 1)\n",
        "\n",
        "no_of_season_win.rename(columns = {\"season\":\"\"}, inplace = True)\n",
        "no_of_season_win.index.name = None\n",
        "no_of_season_win"
      ],
      "execution_count": 54,
      "outputs": [
        {
          "output_type": "stream",
          "text": [
            "Number of Seasons Winning by Teams\n",
            "...............................................................\n"
          ],
          "name": "stdout"
        },
        {
          "output_type": "execute_result",
          "data": {
            "text/html": [
              "<div>\n",
              "<style scoped>\n",
              "    .dataframe tbody tr th:only-of-type {\n",
              "        vertical-align: middle;\n",
              "    }\n",
              "\n",
              "    .dataframe tbody tr th {\n",
              "        vertical-align: top;\n",
              "    }\n",
              "\n",
              "    .dataframe thead th {\n",
              "        text-align: right;\n",
              "    }\n",
              "</style>\n",
              "<table border=\"1\" class=\"dataframe\">\n",
              "  <thead>\n",
              "    <tr style=\"text-align: right;\">\n",
              "      <th></th>\n",
              "      <th></th>\n",
              "    </tr>\n",
              "  </thead>\n",
              "  <tbody>\n",
              "    <tr>\n",
              "      <th>Mumbai Indians</th>\n",
              "      <td>4</td>\n",
              "    </tr>\n",
              "    <tr>\n",
              "      <th>Chennai Super Kings</th>\n",
              "      <td>3</td>\n",
              "    </tr>\n",
              "    <tr>\n",
              "      <th>Delhi Daredevils</th>\n",
              "      <td>1</td>\n",
              "    </tr>\n",
              "  </tbody>\n",
              "</table>\n",
              "</div>"
            ],
            "text/plain": [
              "                      \n",
              "Mumbai Indians       4\n",
              "Chennai Super Kings  3\n",
              "Delhi Daredevils     1"
            ]
          },
          "metadata": {
            "tags": []
          },
          "execution_count": 54
        },
        {
          "output_type": "display_data",
          "data": {
            "image/png": "[encoded data removed]",
            "text/plain": [
              "<Figure size 720x216 with 1 Axes>"
            ]
          },
          "metadata": {
            "tags": [],
            "needs_background": "light"
          }
        }
      ]
    },
    {
      "cell_type": "markdown",
      "metadata": {
        "id": "BQsX_7w5vboy"
      },
      "source": [
        "**Explanation:**\n",
        "\n",
        "From above, the best team to promote currently is Mumbai Indians, followed by Chennai Super Kings. "
      ]
    },
    {
      "cell_type": "markdown",
      "metadata": {
        "id": "If80IU39XCxk"
      },
      "source": [
        "#6. Maximum \"Player of Match\" Holder (Seasonal & Overall)\n",
        "Ranking players with the number of \"Player of Match\" award. "
      ]
    },
    {
      "cell_type": "markdown",
      "metadata": {
        "id": "a2-bftijyX97"
      },
      "source": [
        "**6.1** Work Flow\n",
        "* Get a dataframe with a column for unique season, a column for player name and the last for no. of Player of Match award the player get. \n",
        "* Get another dataframe for each player and no. of POM the player get for throughout all season. \n",
        "* Plot the resultants. \n",
        "POM = Player of Match"
      ]
    },
    {
      "cell_type": "code",
      "metadata": {
        "id": "2XBmpKPFSvJD"
      },
      "source": [
        "# get a dataframe with a column for unique season, a column for player name and the last for\n",
        "# no. of Player of Match award the player get. \n",
        "\n",
        "pom_df = pd.DataFrame(columns = [\"season\",\"player\", \"num_of_POM\"])\n",
        "\n",
        "matches_for_pom = work_matches[[\"id\", \"season\", \"player_of_match\"]]\n",
        "\n",
        "for season in work_matches.season.unique():\n",
        "\n",
        "  temp_dict = {}\n",
        "  temp_dict[\"season\"] = [season]\n",
        "\n",
        "  temp_df = matches_for_pom[matches_for_pom[\"season\"]==season].groupby(\n",
        "      by = \"player_of_match\", as_index = False).count().sort_values(by = \"id\", ascending = False)\n",
        "\n",
        "  temp_dict[\"player\"] = [temp_df[\"player_of_match\"].values[0]]\n",
        "  temp_dict[\"num_of_POM\"] = [temp_df [\"id\"].values[0]]\n",
        "  \n",
        "  temp_df2 = pd.DataFrame.from_dict(temp_dict)\n",
        "\n",
        "  pom_df = pd.concat([pom_df, temp_df2], ignore_index = True)"
      ],
      "execution_count": 80,
      "outputs": []
    },
    {
      "cell_type": "code",
      "metadata": {
        "id": "QpJnZ1Wkc4ZA"
      },
      "source": [
        "# get a dataframe for each player and no. of POM the player get for throughout all season. \n",
        "overall_pom_df = matches_for_pom.groupby(\"player_of_match\", as_index = False).count().sort_values(by= \"id\", ascending = False)\n",
        "overall_pom_df.rename(columns = {\"player_of_match\":\"player\", \"id\":\"Number of POM\"}, inplace = True)"
      ],
      "execution_count": 81,
      "outputs": []
    },
    {
      "cell_type": "code",
      "metadata": {
        "colab": {
          "base_uri": "https://localhost:8080/",
          "height": 380
        },
        "id": "sQvB9CsdVuxX",
        "outputId": "0f8f5ced-24a5-4e02-e869-c31915929131"
      },
      "source": [
        "#Plot the resultants\n",
        "\n",
        "fig = plt.figure(figsize = (10, 4))\n",
        "\n",
        "gs = gridspec.GridSpec(4,4, figure = fig, width_ratios= [1, 0.1, 1, 1], height_ratios=[0.1, 0.6, 0.4, 1])\n",
        "\n",
        "fig.tight_layout(pad = 3.0)\n",
        "\n",
        "axe1 = fig.add_subplot(gs[1,0])\n",
        "sns.barplot(ax = axe1, x =  \"Number of POM\", y = \"player\", data = overall_pom_df.head(),\n",
        "            palette = \"mako\").set_title(\"Player Ranking with POMs\", loc = \"left\")\n",
        "\n",
        "axe2 = fig.add_subplot(gs[-1, 0])\n",
        "sns.histplot(pom_df[\"num_of_POM\"], bins = 4 , ax = axe2).set_title(\"Distribution of Numer of POM.\")\n",
        "\n",
        "axe3 = fig.add_subplot(gs[:, 2:])\n",
        "sns.barplot(ax = axe3, x = \"player\", y = \"num_of_POM\", hue = \"season\", data = pom_df.sort_values(\"season\"),\n",
        "            palette = \"tab10\").set_title(\"Maximum POM Holder (Seasonal)\", loc = \"left\")\n",
        "\n",
        "axe3.legend(bbox_to_anchor=(1, 1), loc='upper left', borderaxespad=0)\n",
        "plt.xticks(rotation = 45)"
      ],
      "execution_count": 97,
      "outputs": [
        {
          "output_type": "execute_result",
          "data": {
            "text/plain": [
              "(array([ 0,  1,  2,  3,  4,  5,  6,  7,  8,  9, 10]),\n",
              " <a list of 11 Text major ticklabel objects>)"
            ]
          },
          "metadata": {
            "tags": []
          },
          "execution_count": 97
        },
        {
          "output_type": "display_data",
          "data": {
            "image/png": "[encoded data removed]",
            "text/plain": [
              "<Figure size 720x288 with 3 Axes>"
            ]
          },
          "metadata": {
            "tags": [],
            "needs_background": "light"
          }
        }
      ]
    },
    {
      "cell_type": "markdown",
      "metadata": {
        "id": "8wdR07Os9rZm"
      },
      "source": [
        "**Explanation:** \n",
        "\n",
        "CH Gayle have been rewared as player_of_match mostly in season 2011 and 2012. And CH Gayle possesses the greatest amount of player_of_match throughout all seasons. \n",
        "\n",
        "Let's see his performance after 2012. "
      ]
    },
    {
      "cell_type": "code",
      "metadata": {
        "colab": {
          "base_uri": "https://localhost:8080/",
          "height": 267
        },
        "id": "tmd43Us-7Qmx",
        "outputId": "889813ca-cbb8-4fa6-83be-21f0f71c3fea"
      },
      "source": [
        "print(\"Performance of CH Gayle after 2012.\")\n",
        "print(\"...............................................................\")\n",
        "matches[((matches[\"season\"] > 2012) | (matches[\"season\"] < 2011)) & (matches[\"player_of_match\"] == \"CH Gayle\")].groupby(\n",
        "    \"season\", as_index = False).count().drop(['id', 'city', 'date', 'team1', 'team2', 'toss_winner',\n",
        "       'toss_decision', 'result', 'dl_applied', 'winner', 'win_by_runs',\n",
        "       'win_by_wickets', 'venue', 'umpire1', 'umpire2',\n",
        "       'umpire3'], axis = 1)"
      ],
      "execution_count": 15,
      "outputs": [
        {
          "output_type": "stream",
          "text": [
            "Performance of CH Gayle after 2012.\n",
            "...............................................................\n"
          ],
          "name": "stdout"
        },
        {
          "output_type": "execute_result",
          "data": {
            "text/html": [
              "<div>\n",
              "<style scoped>\n",
              "    .dataframe tbody tr th:only-of-type {\n",
              "        vertical-align: middle;\n",
              "    }\n",
              "\n",
              "    .dataframe tbody tr th {\n",
              "        vertical-align: top;\n",
              "    }\n",
              "\n",
              "    .dataframe thead th {\n",
              "        text-align: right;\n",
              "    }\n",
              "</style>\n",
              "<table border=\"1\" class=\"dataframe\">\n",
              "  <thead>\n",
              "    <tr style=\"text-align: right;\">\n",
              "      <th></th>\n",
              "      <th>season</th>\n",
              "      <th>player_of_match</th>\n",
              "    </tr>\n",
              "  </thead>\n",
              "  <tbody>\n",
              "    <tr>\n",
              "      <th>0</th>\n",
              "      <td>2009</td>\n",
              "      <td>1</td>\n",
              "    </tr>\n",
              "    <tr>\n",
              "      <th>1</th>\n",
              "      <td>2013</td>\n",
              "      <td>3</td>\n",
              "    </tr>\n",
              "    <tr>\n",
              "      <th>2</th>\n",
              "      <td>2015</td>\n",
              "      <td>2</td>\n",
              "    </tr>\n",
              "    <tr>\n",
              "      <th>3</th>\n",
              "      <td>2017</td>\n",
              "      <td>1</td>\n",
              "    </tr>\n",
              "    <tr>\n",
              "      <th>4</th>\n",
              "      <td>2018</td>\n",
              "      <td>2</td>\n",
              "    </tr>\n",
              "    <tr>\n",
              "      <th>5</th>\n",
              "      <td>2019</td>\n",
              "      <td>1</td>\n",
              "    </tr>\n",
              "  </tbody>\n",
              "</table>\n",
              "</div>"
            ],
            "text/plain": [
              "   season  player_of_match\n",
              "0    2009                1\n",
              "1    2013                3\n",
              "2    2015                2\n",
              "3    2017                1\n",
              "4    2018                2\n",
              "5    2019                1"
            ]
          },
          "metadata": {
            "tags": []
          },
          "execution_count": 15
        }
      ]
    },
    {
      "cell_type": "markdown",
      "metadata": {
        "id": "z9II1GEj-c1k"
      },
      "source": [
        "**Explanation:**\n",
        "\n",
        "Seeing above stats, CH Gayle's POM winning count becomes decreasing. \n",
        "\n",
        "Other players can also not beat the maximum amount of 6 POMs in a season. \n",
        "\n",
        "Thus, promoting based on this will be not be appropriate. (my opinion)"
      ]
    },
    {
      "cell_type": "markdown",
      "metadata": {
        "id": "BlPyffVnnjXa"
      },
      "source": [
        "# 7. Batting Performance\n",
        "\n",
        "A way to rank players based on their performance in striking.\n",
        "\n",
        "Batting Strike-Rate – runs scored divided by balls faced, adjusted to ensure incremental gain for the highest strike rates\n",
        "\n",
        "Ref: [T20 Player Index](https://t20playerindex.com/t20-player-index-frequently-asked-questions/)\n",
        "\n"
      ]
    },
    {
      "cell_type": "markdown",
      "metadata": {
        "id": "YTs8BW52C0mv"
      },
      "source": [
        "7.1 Work Flow\n",
        "\n",
        "* Add season column to deliveries df for ranking players' strike rate seasonally. \n",
        "* Get a dataframe for overall strike rate of players\n",
        "* Get a dataframe for seasonally strike rate of players with highest overall strike rate \n",
        "* Visualize the results"
      ]
    },
    {
      "cell_type": "code",
      "metadata": {
        "id": "xe32ccshX_MP",
        "colab": {
          "base_uri": "https://localhost:8080/"
        },
        "outputId": "3dec8628-db92-4190-8067-27aec99a4bb3"
      },
      "source": [
        "# Adding season columns to deliveries\n",
        "season_list_for_col = []\n",
        "\n",
        "for match_id in deliveries.match_id:\n",
        "  season_list_for_col.append(matches[matches[\"id\"]== match_id][\"season\"].values[0])\n",
        "\n",
        "deliveries[\"season\"] = pd.Series(season_list_for_col)\n",
        "print(deliveries.shape)\n",
        "print(deliveries[\"season\"].count())"
      ],
      "execution_count": 16,
      "outputs": [
        {
          "output_type": "stream",
          "text": [
            "(179078, 22)\n",
            "179078\n"
          ],
          "name": "stdout"
        }
      ]
    },
    {
      "cell_type": "code",
      "metadata": {
        "colab": {
          "base_uri": "https://localhost:8080/",
          "height": 390
        },
        "id": "kyNhahnVdJ00",
        "outputId": "1043595e-8b55-424e-eae5-613a59e32781"
      },
      "source": [
        "deliveries.head()"
      ],
      "execution_count": 17,
      "outputs": [
        {
          "output_type": "execute_result",
          "data": {
            "text/html": [
              "<div>\n",
              "<style scoped>\n",
              "    .dataframe tbody tr th:only-of-type {\n",
              "        vertical-align: middle;\n",
              "    }\n",
              "\n",
              "    .dataframe tbody tr th {\n",
              "        vertical-align: top;\n",
              "    }\n",
              "\n",
              "    .dataframe thead th {\n",
              "        text-align: right;\n",
              "    }\n",
              "</style>\n",
              "<table border=\"1\" class=\"dataframe\">\n",
              "  <thead>\n",
              "    <tr style=\"text-align: right;\">\n",
              "      <th></th>\n",
              "      <th>match_id</th>\n",
              "      <th>inning</th>\n",
              "      <th>batting_team</th>\n",
              "      <th>bowling_team</th>\n",
              "      <th>over</th>\n",
              "      <th>ball</th>\n",
              "      <th>batsman</th>\n",
              "      <th>non_striker</th>\n",
              "      <th>bowler</th>\n",
              "      <th>is_super_over</th>\n",
              "      <th>wide_runs</th>\n",
              "      <th>bye_runs</th>\n",
              "      <th>legbye_runs</th>\n",
              "      <th>noball_runs</th>\n",
              "      <th>penalty_runs</th>\n",
              "      <th>batsman_runs</th>\n",
              "      <th>extra_runs</th>\n",
              "      <th>total_runs</th>\n",
              "      <th>player_dismissed</th>\n",
              "      <th>dismissal_kind</th>\n",
              "      <th>fielder</th>\n",
              "      <th>season</th>\n",
              "    </tr>\n",
              "  </thead>\n",
              "  <tbody>\n",
              "    <tr>\n",
              "      <th>0</th>\n",
              "      <td>1</td>\n",
              "      <td>1</td>\n",
              "      <td>Sunrisers Hyderabad</td>\n",
              "      <td>Royal Challengers Bangalore</td>\n",
              "      <td>1</td>\n",
              "      <td>1</td>\n",
              "      <td>DA Warner</td>\n",
              "      <td>S Dhawan</td>\n",
              "      <td>TS Mills</td>\n",
              "      <td>0</td>\n",
              "      <td>0</td>\n",
              "      <td>0</td>\n",
              "      <td>0</td>\n",
              "      <td>0</td>\n",
              "      <td>0</td>\n",
              "      <td>0</td>\n",
              "      <td>0</td>\n",
              "      <td>0</td>\n",
              "      <td>NaN</td>\n",
              "      <td>NaN</td>\n",
              "      <td>NaN</td>\n",
              "      <td>2017</td>\n",
              "    </tr>\n",
              "    <tr>\n",
              "      <th>1</th>\n",
              "      <td>1</td>\n",
              "      <td>1</td>\n",
              "      <td>Sunrisers Hyderabad</td>\n",
              "      <td>Royal Challengers Bangalore</td>\n",
              "      <td>1</td>\n",
              "      <td>2</td>\n",
              "      <td>DA Warner</td>\n",
              "      <td>S Dhawan</td>\n",
              "      <td>TS Mills</td>\n",
              "      <td>0</td>\n",
              "      <td>0</td>\n",
              "      <td>0</td>\n",
              "      <td>0</td>\n",
              "      <td>0</td>\n",
              "      <td>0</td>\n",
              "      <td>0</td>\n",
              "      <td>0</td>\n",
              "      <td>0</td>\n",
              "      <td>NaN</td>\n",
              "      <td>NaN</td>\n",
              "      <td>NaN</td>\n",
              "      <td>2017</td>\n",
              "    </tr>\n",
              "    <tr>\n",
              "      <th>2</th>\n",
              "      <td>1</td>\n",
              "      <td>1</td>\n",
              "      <td>Sunrisers Hyderabad</td>\n",
              "      <td>Royal Challengers Bangalore</td>\n",
              "      <td>1</td>\n",
              "      <td>3</td>\n",
              "      <td>DA Warner</td>\n",
              "      <td>S Dhawan</td>\n",
              "      <td>TS Mills</td>\n",
              "      <td>0</td>\n",
              "      <td>0</td>\n",
              "      <td>0</td>\n",
              "      <td>0</td>\n",
              "      <td>0</td>\n",
              "      <td>0</td>\n",
              "      <td>4</td>\n",
              "      <td>0</td>\n",
              "      <td>4</td>\n",
              "      <td>NaN</td>\n",
              "      <td>NaN</td>\n",
              "      <td>NaN</td>\n",
              "      <td>2017</td>\n",
              "    </tr>\n",
              "    <tr>\n",
              "      <th>3</th>\n",
              "      <td>1</td>\n",
              "      <td>1</td>\n",
              "      <td>Sunrisers Hyderabad</td>\n",
              "      <td>Royal Challengers Bangalore</td>\n",
              "      <td>1</td>\n",
              "      <td>4</td>\n",
              "      <td>DA Warner</td>\n",
              "      <td>S Dhawan</td>\n",
              "      <td>TS Mills</td>\n",
              "      <td>0</td>\n",
              "      <td>0</td>\n",
              "      <td>0</td>\n",
              "      <td>0</td>\n",
              "      <td>0</td>\n",
              "      <td>0</td>\n",
              "      <td>0</td>\n",
              "      <td>0</td>\n",
              "      <td>0</td>\n",
              "      <td>NaN</td>\n",
              "      <td>NaN</td>\n",
              "      <td>NaN</td>\n",
              "      <td>2017</td>\n",
              "    </tr>\n",
              "    <tr>\n",
              "      <th>4</th>\n",
              "      <td>1</td>\n",
              "      <td>1</td>\n",
              "      <td>Sunrisers Hyderabad</td>\n",
              "      <td>Royal Challengers Bangalore</td>\n",
              "      <td>1</td>\n",
              "      <td>5</td>\n",
              "      <td>DA Warner</td>\n",
              "      <td>S Dhawan</td>\n",
              "      <td>TS Mills</td>\n",
              "      <td>0</td>\n",
              "      <td>2</td>\n",
              "      <td>0</td>\n",
              "      <td>0</td>\n",
              "      <td>0</td>\n",
              "      <td>0</td>\n",
              "      <td>0</td>\n",
              "      <td>2</td>\n",
              "      <td>2</td>\n",
              "      <td>NaN</td>\n",
              "      <td>NaN</td>\n",
              "      <td>NaN</td>\n",
              "      <td>2017</td>\n",
              "    </tr>\n",
              "  </tbody>\n",
              "</table>\n",
              "</div>"
            ],
            "text/plain": [
              "   match_id  inning         batting_team  ... dismissal_kind  fielder  season\n",
              "0         1       1  Sunrisers Hyderabad  ...            NaN      NaN    2017\n",
              "1         1       1  Sunrisers Hyderabad  ...            NaN      NaN    2017\n",
              "2         1       1  Sunrisers Hyderabad  ...            NaN      NaN    2017\n",
              "3         1       1  Sunrisers Hyderabad  ...            NaN      NaN    2017\n",
              "4         1       1  Sunrisers Hyderabad  ...            NaN      NaN    2017\n",
              "\n",
              "[5 rows x 22 columns]"
            ]
          },
          "metadata": {
            "tags": []
          },
          "execution_count": 17
        }
      ]
    },
    {
      "cell_type": "code",
      "metadata": {
        "colab": {
          "base_uri": "https://localhost:8080/"
        },
        "id": "a1dPwu7tdv7s",
        "outputId": "88a19308-00b5-480f-d4cc-9d216bcf98be"
      },
      "source": [
        "deliveries.season.isnull().sum()"
      ],
      "execution_count": 18,
      "outputs": [
        {
          "output_type": "execute_result",
          "data": {
            "text/plain": [
              "0"
            ]
          },
          "metadata": {
            "tags": []
          },
          "execution_count": 18
        }
      ]
    },
    {
      "cell_type": "code",
      "metadata": {
        "id": "KZjEpg4jt-0C"
      },
      "source": [
        "#get a dataframe for overall strike rate of players\n",
        "\n",
        "batting_df = deliveries[[\"batsman\", \"batsman_runs\",\"total_runs\", \"season\"]]\n",
        "\n",
        "batsman_score_run = batting_df.groupby(\"batsman\", as_index=False).sum().sort_values(\"batsman\")\n",
        "batsman_score_run = batsman_score_run.drop([\"total_runs\",\"season\"], axis = 1)\n",
        "\n",
        "batsman_score_run.rename(columns = {\"batsman_runs\":\"run_score\"}, inplace = True)\n",
        "\n",
        "batsman_ball_face = batting_df.groupby(\"batsman\", as_index=False).count().sort_values(\"batsman\")\n",
        "batsman_ball_face = batsman_ball_face.drop([\"total_runs\", \"season\"], axis = 1)\n",
        "\n",
        "batsman_ball_face.rename(columns= {\"batsman_runs\":\"no_ball_faced\"}, inplace = True)\n",
        "\n",
        "overall_strike_rate = pd.DataFrame()\n",
        "\n",
        "overall_strike_rate = pd.merge(batsman_score_run, batsman_ball_face, on =\"batsman\")\n",
        "\n",
        " # filtered out those we faced less than 10 balls\n",
        "overall_strike_rate = overall_strike_rate[overall_strike_rate[\"no_ball_faced\"] > overall_strike_rate[\"no_ball_faced\"].mean()]\n",
        "\n",
        "overall_strike_rate[\"strike_rate\"] = overall_strike_rate[\"run_score\"] / overall_strike_rate[\"no_ball_faced\"]\n",
        "\n",
        "overall_strike_rate = overall_strike_rate.sort_values(\"strike_rate\", ascending=False)"
      ],
      "execution_count": 20,
      "outputs": []
    },
    {
      "cell_type": "code",
      "metadata": {
        "id": "olosBN7X85nR"
      },
      "source": [
        "# get a dataframe for seasonal strike rate of players with highest overall strike rate\n",
        "strike_rate_df = pd.DataFrame(columns = [\"season\", \"player\", \"strike_rate\"])\n",
        "\n",
        "interested_players = overall_strike_rate.batsman.values[0:5]\n",
        "\n",
        "for season in sorted(deliveries.season.unique()):\n",
        "  for player in interested_players:\n",
        "    temp_dict = {}\n",
        "    temp_dict[\"season\"] = [season]\n",
        "    temp_dict[\"player\"] = [player]\n",
        "    temp_dict[\"strike_rate\"]= [batting_df[(batting_df[\"season\"]==season) & (batting_df[\"batsman\"] == player)\n",
        "                                                  ][\"batsman_runs\"].sum()/ batting_df[(batting_df[\"season\"]==season) & (batting_df[\"batsman\"] == player)][\"batsman_runs\"].count()]\n",
        "    \n",
        "    temp_df = pd.DataFrame.from_dict(temp_dict)\n",
        "    strike_rate_df = pd.concat([strike_rate_df, temp_df], ignore_index= True)\n"
      ],
      "execution_count": 21,
      "outputs": []
    },
    {
      "cell_type": "code",
      "metadata": {
        "colab": {
          "base_uri": "https://localhost:8080/",
          "height": 351
        },
        "id": "lxa3p2WRtQf6",
        "outputId": "fd845b2a-4e51-420d-fc12-b77c4f064652"
      },
      "source": [
        "# Visualize the results\n",
        "fig = plt.figure(figsize = (15, 5))\n",
        "gs = gridspec.GridSpec(4,4 , figure = fig, wspace = 0.3, hspace = 1.5, height_ratios= [1, 0.5, 0.5, 0.5])\n",
        "fig.tight_layout(pad = 3)\n",
        "\n",
        "axe1 = fig.add_subplot(gs[0, :2])\n",
        "sns.barplot(ax = axe1,x = \"strike_rate\", y = \"batsman\", \n",
        "            data = overall_strike_rate.head(), palette = \"tab10\").set_title(\"Overall Best Strike Rate (Top 5 players)\", loc = \"left\")\n",
        "\n",
        "axe2 = fig.add_subplot(gs[1:, :2])\n",
        "sns.lineplot(ax = axe2,x = \"season\", y = \"strike_rate\", hue = \"player\", linewidth = 3, \n",
        "            data = strike_rate_df, palette = \"tab10\").set_title(\"Seasonal Best Strike Rate of Top Players\", loc = \"left\")\n",
        "\n",
        "axe3 = fig.add_subplot(gs[:, 2:])\n",
        "sns.distplot(overall_strike_rate[\"strike_rate\"],  bins = 10, norm_hist= True, ax = axe3).set_title(\"Distribution of Strike Rate\")\n",
        "\n",
        "axe1.xaxis.label.set_visible(False)\n",
        "#axe2.legend(bbox_to_anchor=(1, 1), loc='upper left', borderaxespad=0)"
      ],
      "execution_count": 118,
      "outputs": [
        {
          "output_type": "display_data",
          "data": {
            "image/png": "[encoded data removed]",
            "text/plain": [
              "<Figure size 1080x360 with 3 Axes>"
            ]
          },
          "metadata": {
            "tags": [],
            "needs_background": "light"
          }
        }
      ]
    },
    {
      "cell_type": "markdown",
      "metadata": {
        "id": "PjH6N2SRGR5t"
      },
      "source": [
        "**Explanation:**\n",
        "\n",
        "AD Russell and SP Narine has shown their improvement in last seasons. \n",
        "\n",
        "AD Russell has the highest strike rate score throughout all season. \n"
      ]
    },
    {
      "cell_type": "markdown",
      "metadata": {
        "id": "ND8uOd8G6WHx"
      },
      "source": [
        "# 8. Bowling Performance\n",
        "\n",
        "A way to rank players with playing style : bowling is \n",
        "\n",
        "Dot Ball % – the percentage of balls bowled where no run is scored\n",
        "\n",
        "Ref: [T20 Player Index](https://t20playerindex.com/t20-player-index-frequently-asked-questions/)"
      ]
    },
    {
      "cell_type": "markdown",
      "metadata": {
        "id": "gkUiq10iL6SH"
      },
      "source": [
        "8.1 Work Flow\n",
        "\n",
        "Same as Strike rate\n",
        "\n",
        "* for overall\n",
        "* for seasonal performance of highest in overall\n",
        "* visualize"
      ]
    },
    {
      "cell_type": "code",
      "metadata": {
        "id": "1Cq_TN8u4UKh"
      },
      "source": [
        "# overall dot ball\n",
        "\n",
        "bowling_df = deliveries[[\"bowler\", \"total_runs\", \"season\"]]\n",
        "\n",
        "bowling_count = bowling_df.groupby(\"bowler\", as_index = False).count().sort_values(\"bowler\")\n",
        "bowling_count.rename(columns = {\"total_runs\":\"bowling_count\"}, inplace = True)\n",
        "bowling_count = bowling_count.drop([\"season\"], axis = 1)\n",
        "\n",
        "zero_run_count = bowling_df[bowling_df[\"total_runs\"] == 0].groupby(\"bowler\", as_index = False).count().sort_values(\"bowler\")\n",
        "zero_run_count.rename(columns = {\"total_runs\": \"zero_run_count\"}, inplace  = True)\n",
        "zero_run_count = zero_run_count.drop([\"season\"], axis = 1)\n",
        "\n",
        "dot_ball_df = pd.merge(bowling_count, zero_run_count, on = \"bowler\")\n",
        "\n",
        "dot_ball_df[\"Dot_ball_Percentage\"] = round(dot_ball_df[\"zero_run_count\"] / dot_ball_df[\"bowling_count\"] * 100 , 3)\n",
        "\n",
        "# Filter out those who bowled 10 balls and less\n",
        "dot_ball_df_filtered = dot_ball_df[dot_ball_df[\"bowling_count\"] > int(dot_ball_df[\"bowling_count\"].mean()) ].sort_values(\"Dot_ball_Percentage\", ascending = False)"
      ],
      "execution_count": 37,
      "outputs": []
    },
    {
      "cell_type": "code",
      "metadata": {
        "id": "YqM05qrBHtY9"
      },
      "source": [
        "# Seasonal for highest scorer in overall\n",
        "\n",
        "interested_bowlers = dot_ball_df_filtered[\"bowler\"].values[0:5]\n",
        "dot_ball_season = pd.DataFrame(columns = [\"season\", \"bowler\", \"Dot_ball_Percentage\"])\n",
        "\n",
        "for season in sorted(deliveries.season.unique()):\n",
        "  for bowler in interested_bowlers:\n",
        "\n",
        "    temp_dict = {}\n",
        "    temp_dict[\"season\"] = [season]\n",
        "    temp_dict[\"bowler\"] = [bowler]\n",
        "\n",
        "    temp_dict[\"Dot_ball_Percentage\"] = [100 * bowling_df[(\n",
        "        bowling_df[\"season\"] == season) & (bowling_df[\"bowler\"]==bowler) & (bowling_df[\"total_runs\"]== 0)].\n",
        "        count().values[0] / bowling_df[(bowling_df[\"season\"] == season) & (bowling_df[\"bowler\"]==bowler)].count().values[0]]\n",
        "\n",
        "\n",
        "    temp_df = pd.DataFrame.from_dict(temp_dict)\n",
        "    dot_ball_season = pd.concat([dot_ball_season, temp_df], ignore_index=True)\n"
      ],
      "execution_count": 38,
      "outputs": []
    },
    {
      "cell_type": "code",
      "metadata": {
        "colab": {
          "base_uri": "https://localhost:8080/",
          "height": 351
        },
        "id": "8x3BL2oxMCpx",
        "outputId": "fa7b919f-4e03-4f6e-d118-c1727b995699"
      },
      "source": [
        "#visualize\n",
        "\n",
        "fig = plt.figure(figsize = (15, 5))\n",
        "gs = gridspec.GridSpec(4,4 , figure = fig, wspace = 0.3, hspace = 1.5, height_ratios= [1, 0.5, 0.5, 0.5])\n",
        "\n",
        "fig.tight_layout(pad = 3)\n",
        "\n",
        "axe1 = fig.add_subplot(gs[0, :2])\n",
        "sns.barplot(ax = axe1, x = \"Dot_ball_Percentage\", y = \"bowler\", \n",
        "            data = dot_ball_df_filtered.head(), palette = \"tab10\").set_title(\"Dot Ball Percentage (Top 5 players)\", loc = \"left\")\n",
        "\n",
        "axe2 = fig.add_subplot(gs[1:, :2])\n",
        "sns.lineplot(ax = axe2, x = \"season\", y = \"Dot_ball_Percentage\", hue = \"bowler\", linewidth =3,\n",
        "             data = dot_ball_season, palette = \"tab10\").set_title(\"Seasonal Best Dot Ball of Top Players\", loc = \"left\")\n",
        "\n",
        "axe3 = fig.add_subplot(gs[:, 2:])\n",
        "sns.distplot(dot_ball_df_filtered[\"Dot_ball_Percentage\"], bins = 10, kde = True, norm_hist = True).set_title(\"Distribution of Dot Ball Percentage\")\n",
        "\n",
        "axe1.xaxis.label.set_visible(False)\n",
        "#axe2.legend(bbox_to_anchor=(1, 1), loc='upper left', borderaxespad=0)"
      ],
      "execution_count": 119,
      "outputs": [
        {
          "output_type": "display_data",
          "data": {
            "image/png": "[encoded data removed]",
            "text/plain": [
              "<Figure size 1080x360 with 3 Axes>"
            ]
          },
          "metadata": {
            "tags": [],
            "needs_background": "light"
          }
        }
      ]
    },
    {
      "cell_type": "markdown",
      "metadata": {
        "id": "_u8XRy0lTuDQ"
      },
      "source": [
        "**Explanation:**\n",
        "\n",
        "IC Pandey is being the highest in dot ball % bowling analysis. \n",
        "\n",
        "Let's see if he participated in seasons other than in chart. "
      ]
    },
    {
      "cell_type": "code",
      "metadata": {
        "id": "PepYK75RYQvx",
        "colab": {
          "base_uri": "https://localhost:8080/"
        },
        "outputId": "dd1c8720-8864-43b7-f012-9d46fb13afc7"
      },
      "source": [
        "print(\"Number of matches IC Pandey participated in 2008~2012 and 2016~2019 : {} matches.\".format(\n",
        "    deliveries[(deliveries[\"bowler\"] == \"IC Pandey\")&((deliveries[\"season\"]<2013) | (deliveries[\"season\"] > 2015))].count()[0]\n",
        "))\n",
        "print(\"Number of matches DL Chahar participated before 2016 : {} matches.\".format(\n",
        "    deliveries[(deliveries[\"bowler\"] == \"DL Chahar\") & (deliveries[\"season\"] < 2016)].count()[0]\n",
        "))"
      ],
      "execution_count": 52,
      "outputs": [
        {
          "output_type": "stream",
          "text": [
            "Number of matches IC Pandey participated in 2008~2012 and 2016~2019 : 0 matches.\n",
            "Number of matches DL Chahar participated before 2016 : 0 matches.\n"
          ],
          "name": "stdout"
        }
      ]
    },
    {
      "cell_type": "markdown",
      "metadata": {
        "id": "1aVrbr18UDoy"
      },
      "source": [
        "**Explanation:**\n",
        "\n",
        "IC Pandey no longer participate in IPL after getting highest dot ball% in 2013. \n",
        "\n",
        "The second player in the list is DW Steyn, the interested highest scorer currently. \n",
        "\n",
        "The third player in list DL Chahar is also in watch list for his performance in comming seasons."
      ]
    },
    {
      "cell_type": "markdown",
      "metadata": {
        "id": "U4-QMYuCUd2E"
      },
      "source": [
        "\n",
        "\n",
        "---\n",
        "\n",
        "\n",
        "\n",
        "                                                                                                                                        --- End ---\n",
        "\n",
        "\n",
        "\n",
        "\n",
        "\n",
        "\n",
        "---\n",
        "\n",
        "\n",
        "\n"
      ]
    }
  ]
}